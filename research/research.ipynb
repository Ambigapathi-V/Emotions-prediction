{
 "cells": [
  {
   "cell_type": "code",
   "execution_count": 1,
   "metadata": {},
   "outputs": [],
   "source": [
    "import tensorflow as tf\n",
    "from tensorflow.keras import models, layers\n",
    "from tensorflow.keras.callbacks import EarlyStopping\n",
    "import matplotlib.pyplot as plt\n"
   ]
  },
  {
   "cell_type": "code",
   "execution_count": 3,
   "metadata": {},
   "outputs": [],
   "source": [
    "IMAGE_SIZE=256\n",
    "BATCH_SIZE=32\n",
    "CHANNELS=3\n",
    "EPOCHS=25"
   ]
  },
  {
   "cell_type": "code",
   "execution_count": 4,
   "metadata": {},
   "outputs": [
    {
     "name": "stderr",
     "output_type": "stream",
     "text": [
      "c:\\Users\\ambig\\jupiter_notebook\\Projects\\Facial-Emotion-Recognition\\venv\\lib\\site-packages\\tqdm\\auto.py:21: TqdmWarning: IProgress not found. Please update jupyter and ipywidgets. See https://ipywidgets.readthedocs.io/en/stable/user_install.html\n",
      "  from .autonotebook import tqdm as notebook_tqdm\n"
     ]
    },
    {
     "name": "stdout",
     "output_type": "stream",
     "text": [
      "Downloading from https://www.kaggle.com/api/v1/datasets/download/sudarshanvaidya/random-images-for-face-emotion-recognition?dataset_version_number=1...\n"
     ]
    },
    {
     "name": "stderr",
     "output_type": "stream",
     "text": [
      "100%|██████████| 45.6M/45.6M [00:19<00:00, 2.48MB/s]"
     ]
    },
    {
     "name": "stdout",
     "output_type": "stream",
     "text": [
      "Extracting files...\n"
     ]
    },
    {
     "name": "stderr",
     "output_type": "stream",
     "text": [
      "\n"
     ]
    },
    {
     "name": "stdout",
     "output_type": "stream",
     "text": [
      "Path to dataset files: C:\\Users\\ambig\\.cache\\kagglehub\\datasets\\sudarshanvaidya\\random-images-for-face-emotion-recognition\\versions\\1\n"
     ]
    }
   ],
   "source": [
    "import kagglehub\n",
    "import boto3\n",
    "import zipfile\n",
    "import io\n",
    "\n",
    "# Set up S3 client\n",
    "s3_client = boto3.client('s3')\n",
    "\n",
    "# DagsHub S3 bucket name (replace with your actual DagsHub bucket name)\n",
    "bucket_name = \"your-dagshub-bucket-name\"\n",
    "\n",
    "# Define the S3 path where you want to upload the dataset\n",
    "s3_path = \"path/in/your/bucket/dataset/\"\n",
    "\n",
    "# Download the dataset from Kaggle using kagglehub\n",
    "dataset_path = kagglehub.dataset_download(\"sudarshanvaidya/random-images-for-face-emotion-recognition\")\n",
    "\n",
    "# Read the dataset from the downloaded zip file\n",
    "with zipfile.ZipFile(dataset_path, 'r') as zip_ref:\n",
    "    # Loop through each file in the zip and upload to S3\n",
    "    for file_name in zip_ref.namelist():\n",
    "        # Read the file into memory (as bytes)\n",
    "        with zip_ref.open(file_name) as file:\n",
    "            file_data = file.read()\n",
    "\n",
    "        # Define the S3 object key (path inside the bucket)\n",
    "        s3_file_path = s3_path + file_name\n",
    "\n",
    "        # Upload the file directly to S3\n",
    "        s3_client.put_object(Bucket=bucket_name, Key=s3_file_path, Body=file_data)\n",
    "        print(f\"Uploaded {file_name} to {s3_file_path} in DagsHub S3 bucket\")\n",
    "\n",
    "print(\"Dataset upload to DagsHub S3 bucket completed.\")\n"
   ]
  },
  {
   "cell_type": "code",
   "execution_count": null,
   "metadata": {},
   "outputs": [],
   "source": [
    "dataset=tf.keras.preprocessing.image_dataset_from_directory(\n",
    "    'tomato',\n",
    "    shuffle=True,\n",
    "    image_size=(IMAGE_SIZE,IMAGE_SIZE),\n",
    "    batch_size=BATCH_SIZE\n",
    ")"
   ]
  }
 ],
 "metadata": {
  "kernelspec": {
   "display_name": "venv",
   "language": "python",
   "name": "python3"
  },
  "language_info": {
   "codemirror_mode": {
    "name": "ipython",
    "version": 3
   },
   "file_extension": ".py",
   "mimetype": "text/x-python",
   "name": "python",
   "nbconvert_exporter": "python",
   "pygments_lexer": "ipython3",
   "version": "3.10.16"
  }
 },
 "nbformat": 4,
 "nbformat_minor": 2
}
